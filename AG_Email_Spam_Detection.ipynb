{
 "cells": [
  {
   "cell_type": "markdown",
   "metadata": {},
   "source": [
    "# Email Spam Detection "
   ]
  },
  {
   "cell_type": "markdown",
   "metadata": {},
   "source": [
    "### Anubhav Gupta, DTU"
   ]
  },
  {
   "cell_type": "code",
   "execution_count": 1,
   "metadata": {},
   "outputs": [],
   "source": [
    "import numpy as np\n",
    "import pandas as pd\n",
    "import nltk\n",
    "from nltk.corpus import stopwords\n",
    "import string\n",
    "import seaborn as sns"
   ]
  },
  {
   "cell_type": "code",
   "execution_count": null,
   "metadata": {},
   "outputs": [],
   "source": []
  },
  {
   "cell_type": "code",
   "execution_count": 2,
   "metadata": {},
   "outputs": [
    {
     "data": {
      "text/html": [
       "<div>\n",
       "<style scoped>\n",
       "    .dataframe tbody tr th:only-of-type {\n",
       "        vertical-align: middle;\n",
       "    }\n",
       "\n",
       "    .dataframe tbody tr th {\n",
       "        vertical-align: top;\n",
       "    }\n",
       "\n",
       "    .dataframe thead th {\n",
       "        text-align: right;\n",
       "    }\n",
       "</style>\n",
       "<table border=\"1\" class=\"dataframe\">\n",
       "  <thead>\n",
       "    <tr style=\"text-align: right;\">\n",
       "      <th></th>\n",
       "      <th>text</th>\n",
       "      <th>spam</th>\n",
       "    </tr>\n",
       "  </thead>\n",
       "  <tbody>\n",
       "    <tr>\n",
       "      <th>0</th>\n",
       "      <td>Subject: naturally irresistible your corporate...</td>\n",
       "      <td>1</td>\n",
       "    </tr>\n",
       "    <tr>\n",
       "      <th>1</th>\n",
       "      <td>Subject: the stock trading gunslinger  fanny i...</td>\n",
       "      <td>1</td>\n",
       "    </tr>\n",
       "    <tr>\n",
       "      <th>2</th>\n",
       "      <td>Subject: unbelievable new homes made easy  im ...</td>\n",
       "      <td>1</td>\n",
       "    </tr>\n",
       "    <tr>\n",
       "      <th>3</th>\n",
       "      <td>Subject: 4 color printing special  request add...</td>\n",
       "      <td>1</td>\n",
       "    </tr>\n",
       "    <tr>\n",
       "      <th>4</th>\n",
       "      <td>Subject: do not have money , get software cds ...</td>\n",
       "      <td>1</td>\n",
       "    </tr>\n",
       "  </tbody>\n",
       "</table>\n",
       "</div>"
      ],
      "text/plain": [
       "                                                text  spam\n",
       "0  Subject: naturally irresistible your corporate...     1\n",
       "1  Subject: the stock trading gunslinger  fanny i...     1\n",
       "2  Subject: unbelievable new homes made easy  im ...     1\n",
       "3  Subject: 4 color printing special  request add...     1\n",
       "4  Subject: do not have money , get software cds ...     1"
      ]
     },
     "execution_count": 2,
     "metadata": {},
     "output_type": "execute_result"
    }
   ],
   "source": [
    "# Loading the dataset in dataframe df\n",
    "df=pd.read_csv('emails.csv')\n",
    "\n",
    "df.head(5)"
   ]
  },
  {
   "cell_type": "code",
   "execution_count": 3,
   "metadata": {},
   "outputs": [
    {
     "data": {
      "text/plain": [
       "(5728, 2)"
      ]
     },
     "execution_count": 3,
     "metadata": {},
     "output_type": "execute_result"
    }
   ],
   "source": [
    "df.shape"
   ]
  },
  {
   "cell_type": "code",
   "execution_count": 4,
   "metadata": {},
   "outputs": [
    {
     "data": {
      "text/plain": [
       "Index(['text', 'spam'], dtype='object')"
      ]
     },
     "execution_count": 4,
     "metadata": {},
     "output_type": "execute_result"
    }
   ],
   "source": [
    "df.columns "
   ]
  },
  {
   "cell_type": "code",
   "execution_count": 5,
   "metadata": {},
   "outputs": [],
   "source": [
    "# Permanently deleting the redundant data\n",
    "df.drop_duplicates(inplace=True)\n"
   ]
  },
  {
   "cell_type": "code",
   "execution_count": 6,
   "metadata": {},
   "outputs": [
    {
     "data": {
      "text/plain": [
       "(5695, 2)"
      ]
     },
     "execution_count": 6,
     "metadata": {},
     "output_type": "execute_result"
    }
   ],
   "source": [
    "#New shape of dataset\n",
    "df.shape"
   ]
  },
  {
   "cell_type": "code",
   "execution_count": 7,
   "metadata": {},
   "outputs": [
    {
     "data": {
      "text/plain": [
       "0    4327\n",
       "1    1368\n",
       "Name: spam, dtype: int64"
      ]
     },
     "execution_count": 7,
     "metadata": {},
     "output_type": "execute_result"
    }
   ],
   "source": [
    "#divide the dataset into 2 equal i.e. equal spam and equal ham emails\n",
    "df['spam'].value_counts()\n"
   ]
  },
  {
   "cell_type": "code",
   "execution_count": 8,
   "metadata": {},
   "outputs": [
    {
     "data": {
      "text/plain": [
       "1    1368\n",
       "0    1368\n",
       "Name: spam, dtype: int64"
      ]
     },
     "execution_count": 8,
     "metadata": {},
     "output_type": "execute_result"
    }
   ],
   "source": [
    "# to remove 4327-1368=2959 rows from the end of dataframe\n",
    "df.drop(df.tail(2959).index, inplace = True)\n",
    "df['spam'].value_counts()"
   ]
  },
  {
   "cell_type": "code",
   "execution_count": 9,
   "metadata": {},
   "outputs": [
    {
     "data": {
      "text/html": [
       "<div>\n",
       "<style scoped>\n",
       "    .dataframe tbody tr th:only-of-type {\n",
       "        vertical-align: middle;\n",
       "    }\n",
       "\n",
       "    .dataframe tbody tr th {\n",
       "        vertical-align: top;\n",
       "    }\n",
       "\n",
       "    .dataframe thead th {\n",
       "        text-align: right;\n",
       "    }\n",
       "</style>\n",
       "<table border=\"1\" class=\"dataframe\">\n",
       "  <thead>\n",
       "    <tr style=\"text-align: right;\">\n",
       "      <th></th>\n",
       "      <th>text</th>\n",
       "      <th>spam</th>\n",
       "    </tr>\n",
       "  </thead>\n",
       "  <tbody>\n",
       "    <tr>\n",
       "      <th>0</th>\n",
       "      <td>naturally irresistible your corporate identit...</td>\n",
       "      <td>1</td>\n",
       "    </tr>\n",
       "    <tr>\n",
       "      <th>1</th>\n",
       "      <td>the stock trading gunslinger  fanny is merril...</td>\n",
       "      <td>1</td>\n",
       "    </tr>\n",
       "    <tr>\n",
       "      <th>2</th>\n",
       "      <td>unbelievable new homes made easy  im wanting ...</td>\n",
       "      <td>1</td>\n",
       "    </tr>\n",
       "    <tr>\n",
       "      <th>3</th>\n",
       "      <td>4 color printing special  request additional ...</td>\n",
       "      <td>1</td>\n",
       "    </tr>\n",
       "    <tr>\n",
       "      <th>4</th>\n",
       "      <td>do not have money , get software cds from her...</td>\n",
       "      <td>1</td>\n",
       "    </tr>\n",
       "  </tbody>\n",
       "</table>\n",
       "</div>"
      ],
      "text/plain": [
       "                                                text  spam\n",
       "0   naturally irresistible your corporate identit...     1\n",
       "1   the stock trading gunslinger  fanny is merril...     1\n",
       "2   unbelievable new homes made easy  im wanting ...     1\n",
       "3   4 color printing special  request additional ...     1\n",
       "4   do not have money , get software cds from her...     1"
      ]
     },
     "execution_count": 9,
     "metadata": {},
     "output_type": "execute_result"
    }
   ],
   "source": [
    "\n",
    "#removing the first word 'subject ' from all the emails as it is useless\n",
    "df['text']=df['text'].map(lambda text: text[8:])\n",
    "\n",
    "df.head(5)\n",
    "# displays now only the starting of an email "
   ]
  },
  {
   "cell_type": "code",
   "execution_count": 10,
   "metadata": {},
   "outputs": [
    {
     "data": {
      "text/plain": [
       "text    0\n",
       "spam    0\n",
       "dtype: int64"
      ]
     },
     "execution_count": 10,
     "metadata": {},
     "output_type": "execute_result"
    }
   ],
   "source": [
    "df.isnull().sum() #check if null values"
   ]
  },
  {
   "cell_type": "code",
   "execution_count": 11,
   "metadata": {},
   "outputs": [
    {
     "name": "stderr",
     "output_type": "stream",
     "text": [
      "[nltk_data] Downloading package stopwords to C:\\Users\\ANUBHAV\n",
      "[nltk_data]     GUPTA\\AppData\\Roaming\\nltk_data...\n",
      "[nltk_data]   Package stopwords is already up-to-date!\n"
     ]
    },
    {
     "data": {
      "text/plain": [
       "True"
      ]
     },
     "execution_count": 11,
     "metadata": {},
     "output_type": "execute_result"
    }
   ],
   "source": [
    "nltk.download('stopwords')"
   ]
  },
  {
   "cell_type": "code",
   "execution_count": 12,
   "metadata": {},
   "outputs": [
    {
     "data": {
      "text/plain": [
       "<matplotlib.axes._subplots.AxesSubplot at 0x1bf22601708>"
      ]
     },
     "execution_count": 12,
     "metadata": {},
     "output_type": "execute_result"
    },
    {
     "data": {
      "image/png": "[encoded data removed]",
      "text/plain": [
       "<Figure size 432x288 with 1 Axes>"
      ]
     },
     "metadata": {
      "needs_background": "light"
     },
     "output_type": "display_data"
    }
   ],
   "source": [
    "from nltk.stem import PorterStemmer\n",
    "ps=PorterStemmer()\n",
    "sns.countplot(df['spam'])"
   ]
  },
  {
   "cell_type": "code",
   "execution_count": 13,
   "metadata": {},
   "outputs": [],
   "source": [
    "# will create function to do data preprocessing and removing numericals,punctuations and the stopwords from the given text\n",
    "def process_text(text):\n",
    "    # remove punctuations checking each character\n",
    "    punc_less=[ch for ch in text if ch not in string.punctuation]\n",
    "    punc_less=''.join(punc_less)\n",
    "    \n",
    "    #remove all numerical values\n",
    "    res = ''.join([i for i in punc_less if not i.isdigit()])\n",
    "    \n",
    "    # remove all stopwords\n",
    "    new_words=[word for word in res.split() if word.lower() not in stopwords.words('english')]\n",
    "    \n",
    "    #apply stemming \n",
    "    final_words=[ps.stem(w) for w in new_words]\n",
    "    \n",
    "    return final_words\n"
   ]
  },
  {
   "cell_type": "code",
   "execution_count": 14,
   "metadata": {},
   "outputs": [
    {
     "data": {
      "text/plain": [
       "['hello',\n",
       " 'phone',\n",
       " 'world',\n",
       " 'hello',\n",
       " 'number',\n",
       " 'get',\n",
       " 'offer',\n",
       " 'program',\n",
       " 'program',\n",
       " 'program']"
      ]
     },
     "execution_count": 14,
     "metadata": {},
     "output_type": "execute_result"
    }
   ],
   "source": [
    "#Example to show working of our function\n",
    "process_text('hello 3344 phone44...'' 112worlds ,hello 345661 on a this is number get offer 12345 programing programs program')"
   ]
  },
  {
   "cell_type": "code",
   "execution_count": 15,
   "metadata": {},
   "outputs": [
    {
     "data": {
      "text/plain": [
       "array([<matplotlib.axes._subplots.AxesSubplot object at 0x000001BF1F59A988>,\n",
       "       <matplotlib.axes._subplots.AxesSubplot object at 0x000001BF22E14B88>],\n",
       "      dtype=object)"
      ]
     },
     "execution_count": 15,
     "metadata": {},
     "output_type": "execute_result"
    },
    {
     "data": {
      "image/png": "[encoded data removed]",
      "text/plain": [
       "<Figure size 432x288 with 2 Axes>"
      ]
     },
     "metadata": {
      "needs_background": "light"
     },
     "output_type": "display_data"
    }
   ],
   "source": [
    "emai=df\n",
    "emai['length'] = emai['text'].map(lambda text: len(text))\n",
    "emai.groupby('spam').length.describe()\n",
    "emai_subset = emai[emai.length < 1800]\n",
    "emai_subset.hist(column='length', by='spam', bins=50)"
   ]
  },
  {
   "cell_type": "markdown",
   "metadata": {},
   "source": [
    "# Splitting the Data"
   ]
  },
  {
   "cell_type": "code",
   "execution_count": 16,
   "metadata": {},
   "outputs": [],
   "source": [
    "from sklearn.model_selection import train_test_split\n",
    "X_train,X_test,y_train,y_test=train_test_split(df['text'],df['spam'],test_size=0.30,random_state=18)"
   ]
  },
  {
   "cell_type": "code",
   "execution_count": 17,
   "metadata": {},
   "outputs": [
    {
     "data": {
      "text/plain": [
       "0    421\n",
       "1    400\n",
       "Name: spam, dtype: int64"
      ]
     },
     "execution_count": 17,
     "metadata": {},
     "output_type": "execute_result"
    }
   ],
   "source": [
    "y_test.value_counts()"
   ]
  },
  {
   "cell_type": "code",
   "execution_count": 18,
   "metadata": {},
   "outputs": [
    {
     "data": {
      "text/plain": [
       "(821,)"
      ]
     },
     "execution_count": 18,
     "metadata": {},
     "output_type": "execute_result"
    }
   ],
   "source": [
    "y_test.shape"
   ]
  },
  {
   "cell_type": "markdown",
   "metadata": {},
   "source": [
    "# BoW Model"
   ]
  },
  {
   "cell_type": "code",
   "execution_count": 19,
   "metadata": {},
   "outputs": [],
   "source": [
    "from sklearn.feature_extraction.text import CountVectorizer\n",
    "temp_train_bow=CountVectorizer(analyzer=process_text).fit(X_train)"
   ]
  },
  {
   "cell_type": "code",
   "execution_count": 20,
   "metadata": {},
   "outputs": [],
   "source": [
    "train_bow=temp_train_bow.transform(X_train)"
   ]
  },
  {
   "cell_type": "code",
   "execution_count": 21,
   "metadata": {},
   "outputs": [
    {
     "data": {
      "text/plain": [
       "(1915, 16392)"
      ]
     },
     "execution_count": 21,
     "metadata": {},
     "output_type": "execute_result"
    }
   ],
   "source": [
    "train_bow.shape"
   ]
  },
  {
   "cell_type": "code",
   "execution_count": 22,
   "metadata": {},
   "outputs": [],
   "source": [
    "temp_test_bow=CountVectorizer(analyzer=process_text).fit(X_train)"
   ]
  },
  {
   "cell_type": "code",
   "execution_count": 23,
   "metadata": {},
   "outputs": [],
   "source": [
    "test_bow=temp_test_bow.transform(X_test)"
   ]
  },
  {
   "cell_type": "code",
   "execution_count": 24,
   "metadata": {},
   "outputs": [
    {
     "data": {
      "text/plain": [
       "(821, 16392)"
      ]
     },
     "execution_count": 24,
     "metadata": {},
     "output_type": "execute_result"
    }
   ],
   "source": [
    "test_bow.shape"
   ]
  },
  {
   "cell_type": "code",
   "execution_count": 25,
   "metadata": {},
   "outputs": [],
   "source": [
    "# Creating and Training of the Naive Bayes Model\n",
    "from sklearn.naive_bayes import MultinomialNB\n"
   ]
  },
  {
   "cell_type": "code",
   "execution_count": 26,
   "metadata": {},
   "outputs": [],
   "source": [
    "#training the model\n",
    "clf_bow=MultinomialNB().fit(train_bow,y_train)"
   ]
  },
  {
   "cell_type": "code",
   "execution_count": 27,
   "metadata": {},
   "outputs": [],
   "source": [
    "# Measuring the performance of our model on train data\n",
    "from sklearn.metrics import classification_report,confusion_matrix,accuracy_score"
   ]
  },
  {
   "cell_type": "code",
   "execution_count": 28,
   "metadata": {},
   "outputs": [
    {
     "name": "stdout",
     "output_type": "stream",
     "text": [
      "Confusion Matrix -> \n",
      " [[944   3]\n",
      " [  1 967]]\n",
      "\n",
      "Accuracy->  0.997911227154047\n"
     ]
    }
   ],
   "source": [
    "pred_train_bow=clf_bow.predict(train_bow)\n",
    "\n",
    "print('Confusion Matrix -> \\n',confusion_matrix(y_train,pred_train_bow))\n",
    "print('\\nAccuracy-> ',accuracy_score(y_train,pred_train_bow))"
   ]
  },
  {
   "cell_type": "code",
   "execution_count": null,
   "metadata": {},
   "outputs": [],
   "source": []
  },
  {
   "cell_type": "code",
   "execution_count": 30,
   "metadata": {},
   "outputs": [
    {
     "name": "stdout",
     "output_type": "stream",
     "text": [
      "\n",
      "Accuracy->  0.9866017052375152\n",
      "\n",
      "Precision->  0.9874686716791979\n",
      "\n",
      "f1-Score->  0.986232790988736\n",
      "              precision    recall  f1-score   support\n",
      "\n",
      "           0       0.99      0.99      0.99       421\n",
      "           1       0.99      0.98      0.99       400\n",
      "\n",
      "    accuracy                           0.99       821\n",
      "   macro avg       0.99      0.99      0.99       821\n",
      "weighted avg       0.99      0.99      0.99       821\n",
      "\n"
     ]
    }
   ],
   "source": [
    "# Measuring the performance of our model on test data\n",
    "pred_test_bow=clf_bow.predict(test_bow)\n",
    "from sklearn.metrics import precision_score\n",
    "from sklearn.metrics import f1_score\n",
    "print('\\nAccuracy-> ',accuracy_score(y_test,pred_test_bow))\n",
    "print('\\nPrecision-> ',precision_score(y_test,pred_test_bow))\n",
    "print('\\nf1-Score-> ',f1_score(y_test,pred_test_bow))\n",
    "from sklearn.metrics import classification_report\n",
    "print(classification_report(y_test,pred_test_bow))"
   ]
  },
  {
   "cell_type": "code",
   "execution_count": 31,
   "metadata": {},
   "outputs": [
    {
     "data": {
      "text/plain": [
       "<sklearn.metrics._plot.confusion_matrix.ConfusionMatrixDisplay at 0x1bf23464748>"
      ]
     },
     "execution_count": 31,
     "metadata": {},
     "output_type": "execute_result"
    },
    {
     "data": {
      "image/png": "[encoded data removed]",
      "text/plain": [
       "<Figure size 432x288 with 2 Axes>"
      ]
     },
     "metadata": {
      "needs_background": "light"
     },
     "output_type": "display_data"
    }
   ],
   "source": [
    "from sklearn.metrics import plot_confusion_matrix\n",
    "plot_confusion_matrix(clf_bow,test_bow,y_test)"
   ]
  },
  {
   "cell_type": "code",
   "execution_count": 45,
   "metadata": {},
   "outputs": [],
   "source": [
    "\n",
    "# import matplotlib.pyplot as plt\n",
    "# from sklearn import metrics\n",
    "# y_pred_proba = clf_bow.predict(test_bow)\n",
    "# fpr, tpr, _ = metrics.roc_curve(y_test,  y_pred_proba)\n",
    "# auc = metrics.roc_auc_score(y_test, y_pred_proba)\n",
    "# plt.plot(fpr,tpr,label=\"auc=\"+str(auc))\n",
    "# plt.legend(loc=4)\n",
    "# plt.xlabel('FPR')\n",
    "# plt.ylabel('TPR')\n",
    "# plt.show()"
   ]
  },
  {
   "cell_type": "code",
   "execution_count": 46,
   "metadata": {},
   "outputs": [
    {
     "name": "stdout",
     "output_type": "stream",
     "text": [
      "Confusion Matrix -> \n",
      " [[416   5]\n",
      " [  6 394]]\n",
      "\n",
      "Accuracy->  0.9866017052375152\n"
     ]
    }
   ],
   "source": [
    "pred_test_bow=clf_bow.predict(test_bow)\n",
    "\n",
    "print('Confusion Matrix -> \\n',confusion_matrix(y_test,pred_test_bow))\n",
    "print('\\nAccuracy-> ',accuracy_score(y_test,pred_test_bow))"
   ]
  },
  {
   "cell_type": "code",
   "execution_count": 62,
   "metadata": {},
   "outputs": [
    {
     "name": "stdout",
     "output_type": "stream",
     "text": [
      "[0 1 0 1]\n"
     ]
    }
   ],
   "source": [
    "ex_docs=['hi call me','free money! call','important meet at 12:00 a.m.','money money money do not miss your chance']\n",
    "\n",
    "abc=temp_test_bow.transform(ex_docs)\n",
    "ex_pred=clf_bow.predict(abc)\n",
    "print(ex_pred)"
   ]
  },
  {
   "cell_type": "code",
   "execution_count": 57,
   "metadata": {},
   "outputs": [
    {
     "data": {
      "text/plain": [
       "(2, 16392)"
      ]
     },
     "execution_count": 57,
     "metadata": {},
     "output_type": "execute_result"
    }
   ],
   "source": [
    "abc.shape\n"
   ]
  },
  {
   "cell_type": "code",
   "execution_count": 58,
   "metadata": {},
   "outputs": [
    {
     "name": "stdout",
     "output_type": "stream",
     "text": [
      "  (0, 2032)\t1\n",
      "  (0, 6532)\t1\n",
      "  (1, 2032)\t1\n",
      "  (1, 5549)\t1\n",
      "  (1, 9377)\t1\n"
     ]
    }
   ],
   "source": [
    "print(abc)"
   ]
  },
  {
   "cell_type": "code",
   "execution_count": 59,
   "metadata": {},
   "outputs": [
    {
     "data": {
      "text/plain": [
       "{'get': 5845,\n",
       " 'order': 10276,\n",
       " 'anyth': 709,\n",
       " 'sell': 12866,\n",
       " 'reach': 11806,\n",
       " 'mass': 8861,\n",
       " 'direct': 3869,\n",
       " 'e': 4267,\n",
       " 'mail': 8662,\n",
       " 'advertis': 230,\n",
       " 'bulk': 1909,\n",
       " 'expert': 4977,\n",
       " 'us': 15248,\n",
       " 'volum': 15604,\n",
       " 'discount': 3903,\n",
       " 'avail': 1054,\n",
       " 'info': 7111,\n",
       " 'place': 10975,\n",
       " 'pleas': 11009,\n",
       " 'leav': 8184,\n",
       " 'name': 9614,\n",
       " 'telephon': 14326,\n",
       " 'number': 10018,\n",
       " 'best': 1440,\n",
       " 'time': 14574,\n",
       " 'call': 2032,\n",
       " 'click': 2614,\n",
       " 'remov': 12040,\n",
       " 'eprm': 4717,\n",
       " 'articl': 867,\n",
       " 'hi': 6532,\n",
       " 'vinc': 15523,\n",
       " 'sorri': 13463,\n",
       " 'around': 847,\n",
       " 'sydney': 14137,\n",
       " 'week': 15790,\n",
       " 'miss': 9278,\n",
       " 'good': 5997,\n",
       " 'book': 1676,\n",
       " 'launch': 8115,\n",
       " 'parti': 10577,\n",
       " 'john': 7626,\n",
       " 'martin': 8841,\n",
       " 'organis': 10292,\n",
       " 'paul': 10641,\n",
       " 'made': 8631,\n",
       " 'short': 13098,\n",
       " 'speech': 13540,\n",
       " 'relay': 12008,\n",
       " 'great': 6077,\n",
       " 'comment': 2780,\n",
       " 'said': 12548,\n",
       " 'came': 2053,\n",
       " 'thank': 14425,\n",
       " 'much': 9508,\n",
       " 'find': 5302,\n",
       " 'attach': 966,\n",
       " 'next': 9822,\n",
       " 'realli': 11827,\n",
       " 'tide': 14556,\n",
       " 'fulli': 5646,\n",
       " 'end': 4588,\n",
       " 'yet': 16248,\n",
       " 'want': 15684,\n",
       " 'send': 12880,\n",
       " 'weekend': 15792,\n",
       " 'case': 2170,\n",
       " 'got': 6018,\n",
       " 'chanc': 2342,\n",
       " 'look': 8473,\n",
       " 'easter': 4303,\n",
       " 'break': 1765,\n",
       " 'robin': 12341,\n",
       " 'thursday': 14543,\n",
       " 'regard': 11954,\n",
       " 'chri': 2474,\n",
       " 'fwd': 5672,\n",
       " 'curv': 3346,\n",
       " 'simul': 13200,\n",
       " 'doc': 4027,\n",
       " 'commerc': 2782,\n",
       " 'seminar': 12876,\n",
       " 'donna': 4068,\n",
       " 'let': 8242,\n",
       " 'know': 7920,\n",
       " 'asap': 875,\n",
       " 'believ': 1367,\n",
       " 'london': 8461,\n",
       " 'date': 3474,\n",
       " 'immedi': 6948,\n",
       " 'confer': 2906,\n",
       " 'tomorrow': 14652,\n",
       " 'establish': 4825,\n",
       " 'melinda': 9054,\n",
       " 'set': 12939,\n",
       " 'afternoon': 274,\n",
       " 'christi': 2481,\n",
       " 'forward': 5489,\n",
       " 'patrick': 10629,\n",
       " 'hou': 6695,\n",
       " 'ect': 4354,\n",
       " 'pm': 11048,\n",
       " 'fap': 5107,\n",
       " 'enron': 4653,\n",
       " 'com': 2758,\n",
       " 'cc': 2241,\n",
       " 'subject': 13919,\n",
       " 'professor': 11389,\n",
       " 'ravi': 11776,\n",
       " 'aron': 843,\n",
       " 'wharton': 15851,\n",
       " 'consult': 2995,\n",
       " 'student': 13889,\n",
       " 'tiger': 14564,\n",
       " 'team': 14282,\n",
       " 'project': 11410,\n",
       " 'suggest': 13968,\n",
       " 'invit': 7308,\n",
       " 'attend': 973,\n",
       " 'execut': 4936,\n",
       " 'educ': 4382,\n",
       " 'directli': 3872,\n",
       " 'relat': 12004,\n",
       " 'work': 16052,\n",
       " 'give': 5911,\n",
       " 'session': 12936,\n",
       " 'price': 11312,\n",
       " 'mechan': 9003,\n",
       " 'b': 1111,\n",
       " 'market': 8814,\n",
       " 'auction': 989,\n",
       " 'take': 14199,\n",
       " 'steinberg': 13748,\n",
       " 'center': 2283,\n",
       " 'campu': 2066,\n",
       " 'march': 8787,\n",
       " 'would': 16084,\n",
       " 'also': 462,\n",
       " 'like': 8325,\n",
       " 'extend': 5011,\n",
       " 'repres': 12085,\n",
       " 'someon': 13434,\n",
       " 'abl': 44,\n",
       " 'see': 12817,\n",
       " 'final': 5289,\n",
       " 'present': 11284,\n",
       " 'april': 763,\n",
       " 'vanc': 15359,\n",
       " 'hall': 6252,\n",
       " 'home': 6628,\n",
       " 'make': 8704,\n",
       " 'money': 9377,\n",
       " 'rich': 12241,\n",
       " 'part': 10573,\n",
       " 'extra': 5018,\n",
       " 'incom': 7024,\n",
       " 'peopl': 10740,\n",
       " 'special': 13524,\n",
       " 'skill': 13259,\n",
       " 'requir': 12103,\n",
       " 'fee': 5183,\n",
       " 'start': 13708,\n",
       " 'train': 14744,\n",
       " 'person': 10786,\n",
       " 'coach': 2670,\n",
       " 'explain': 4986,\n",
       " 'put': 11557,\n",
       " 'internet': 7246,\n",
       " 'comput': 2860,\n",
       " 'matter': 8896,\n",
       " 'current': 3339,\n",
       " 'live': 8395,\n",
       " 'join': 7633,\n",
       " 'need': 9717,\n",
       " 'coupl': 3166,\n",
       " 'hour': 6696,\n",
       " 'commit': 2791,\n",
       " 'per': 10748,\n",
       " 'day': 3488,\n",
       " 'offer': 10111,\n",
       " 'manual': 8773,\n",
       " 'buy': 1968,\n",
       " 'unlimit': 15129,\n",
       " 'potenti': 11166,\n",
       " 'action': 132,\n",
       " 'someth': 13436,\n",
       " 'posit': 11133,\n",
       " 'today': 14629,\n",
       " 'keep': 7798,\n",
       " 'mind': 9230,\n",
       " 'packag': 10475,\n",
       " 'firm': 5317,\n",
       " 'smarter': 13328,\n",
       " 'harder': 6318,\n",
       " 'differ': 3825,\n",
       " 'financi': 5295,\n",
       " 'futur': 5668,\n",
       " 'basic': 1246,\n",
       " 'knowledg': 7922,\n",
       " 'access': 91,\n",
       " 'connect': 2950,\n",
       " 'mentor': 9082,\n",
       " 'one': 10192,\n",
       " 'seriou': 12922,\n",
       " 'remain': 12028,\n",
       " 'teachabl': 14280,\n",
       " 'appli': 748,\n",
       " 'excit': 4927,\n",
       " 'opportun': 10249,\n",
       " 'carri': 2152,\n",
       " 'applic': 750,\n",
       " 'inform': 7119,\n",
       " 'fill': 5280,\n",
       " 'request': 12101,\n",
       " 'form': 5461,\n",
       " 'foreign': 5439,\n",
       " 'currenc': 3338,\n",
       " 'trade': 14731,\n",
       " 'report': 12081,\n",
       " 'trillion': 14819,\n",
       " 'dollar': 4052,\n",
       " 'tap': 14236,\n",
       " 'high': 6546,\n",
       " 'found': 5495,\n",
       " 'world': 16068,\n",
       " 'largest': 8083,\n",
       " 'discov': 3906,\n",
       " 'properli': 11433,\n",
       " 'euro': 4859,\n",
       " 'vs': 15625,\n",
       " 'could': 3146,\n",
       " 'return': 12180,\n",
       " 'learn': 8178,\n",
       " 'success': 13948,\n",
       " 'profession': 11386,\n",
       " 'trader': 14733,\n",
       " 'assist': 914,\n",
       " 'achiev': 116,\n",
       " 'doubl': 4094,\n",
       " 'digit': 3832,\n",
       " 'monthli': 9401,\n",
       " 'free': 5549,\n",
       " 'newslett': 9810,\n",
       " 'comprehens': 2850,\n",
       " 'link': 8353,\n",
       " 'consider': 2972,\n",
       " 'exposur': 5002,\n",
       " 'risk': 12280,\n",
       " 'forex': 5449,\n",
       " 'fx': 5673,\n",
       " 'transact': 14751,\n",
       " 'decid': 3552,\n",
       " 'particip': 10580,\n",
       " 'care': 2126,\n",
       " 'consid': 2971,\n",
       " 'object': 10055,\n",
       " 'level': 8254,\n",
       " 'experi': 4972,\n",
       " 'appetit': 744,\n",
       " 'importantli': 6979,\n",
       " 'invest': 7302,\n",
       " 'afford': 261,\n",
       " 'lose': 8500,\n",
       " 'receiv': 11862,\n",
       " 'error': 4774,\n",
       " 'sincer': 13206,\n",
       " 'apolog': 730,\n",
       " 'simpli': 13195,\n",
       " 'repli': 12074,\n",
       " 'line': 8346,\n",
       " 'honor': 6653,\n",
       " 'attempt': 971,\n",
       " 'disabl': 3879,\n",
       " 'acct': 106,\n",
       " 'prevent': 11304,\n",
       " 'other': 10347,\n",
       " 'inconveni': 7030,\n",
       " 'wont': 16033,\n",
       " 'happen': 6302,\n",
       " 'heart': 6412,\n",
       " 'busi': 1950,\n",
       " 'corpor': 3113,\n",
       " 'imag': 6933,\n",
       " 'say': 12662,\n",
       " 'lot': 8505,\n",
       " 'thing': 14490,\n",
       " 'compani': 2804,\n",
       " 'contemporari': 3009,\n",
       " 'rhythm': 12234,\n",
       " 'life': 8307,\n",
       " 'dynam': 4258,\n",
       " 'sometim': 13437,\n",
       " 'sever': 12955,\n",
       " 'second': 12798,\n",
       " 'rememb': 12033,\n",
       " 'iost': 7335,\n",
       " 'among': 543,\n",
       " 'competitor': 2819,\n",
       " 'logo': 8454,\n",
       " 'stationeri': 13728,\n",
       " 'websit': 15781,\n",
       " 'done': 4065,\n",
       " 'right': 12262,\n",
       " 'fast': 5128,\n",
       " 'turnaround': 14895,\n",
       " 'wiii': 15922,\n",
       " 'severai': 12957,\n",
       " 'ioqo': 7332,\n",
       " 'variant': 15374,\n",
       " 'three': 14523,\n",
       " 'satisfact': 12643,\n",
       " 'quarante': 11626,\n",
       " 'provid': 11472,\n",
       " 'uniimit': 15108,\n",
       " 'amount': 549,\n",
       " 'chanq': 2349,\n",
       " 'sure': 14044,\n",
       " 'wili': 15930,\n",
       " 'meet': 9030,\n",
       " 'needsand': 9724,\n",
       " 'fit': 5329,\n",
       " 'fiexibi': 5259,\n",
       " 'loqo': 8490,\n",
       " 'improv': 6990,\n",
       " 'addit': 155,\n",
       " 'format': 5465,\n",
       " 'buik': 1900,\n",
       " 'creativ': 3224,\n",
       " 'design': 3717,\n",
       " 'competit': 2818,\n",
       " 'interest': 7228,\n",
       " 'employe': 4561,\n",
       " 'list': 8373,\n",
       " 'research': 12114,\n",
       " 'site': 13230,\n",
       " 'group': 6131,\n",
       " 'hello': 6463,\n",
       " 'everyon': 4889,\n",
       " 'sap': 12623,\n",
       " 'timesheet': 14581,\n",
       " 'cost': 3134,\n",
       " 'org': 10290,\n",
       " 'unit': 15115,\n",
       " 'longer': 8465,\n",
       " 'move': 9468,\n",
       " 'alexio': 394,\n",
       " 'kollaro': 7935,\n",
       " 'new': 9791,\n",
       " 'power': 11183,\n",
       " 'co': 2669,\n",
       " 'farouk': 5121,\n",
       " 'lalji': 8050,\n",
       " 'analyst': 573,\n",
       " 'rotat': 12421,\n",
       " 'ainsley': 339,\n",
       " 'gaddi': 5687,\n",
       " 'summer': 13983,\n",
       " 'intern': 7242,\n",
       " 'school': 12703,\n",
       " 'last': 8094,\n",
       " 'th': 14416,\n",
       " 'mandeep': 8745,\n",
       " 'chahal': 2326,\n",
       " 'jame': 7472,\n",
       " 'aimon': 336,\n",
       " 'roman': 12388,\n",
       " 'zadorozhni': 16309,\n",
       " 'anoth': 662,\n",
       " 'shirley': 13071,\n",
       " 'guid': 6182,\n",
       " 'thru': 14533,\n",
       " 'answer': 669,\n",
       " 'question': 11644,\n",
       " 'laser': 8089,\n",
       " 'vision': 15558,\n",
       " 'correct': 3116,\n",
       " 'throw': 14530,\n",
       " 'glass': 5924,\n",
       " 'contact': 3001,\n",
       " 'away': 1085,\n",
       " 'tuaujryt': 14866,\n",
       " 'unbeliev': 15016,\n",
       " 'easi': 4297,\n",
       " 'im': 6932,\n",
       " 'show': 13115,\n",
       " 'homeown': 6634,\n",
       " 'pre': 11236,\n",
       " 'approv': 757,\n",
       " 'loan': 8429,\n",
       " 'fix': 5331,\n",
       " 'rate': 11762,\n",
       " 'uncondit': 15035,\n",
       " 'credit': 3228,\n",
       " 'way': 15737,\n",
       " 'factor': 5061,\n",
       " 'advantag': 224,\n",
       " 'limit': 8335,\n",
       " 'ask': 894,\n",
       " 'visit': 15560,\n",
       " 'complet': 2827,\n",
       " 'minut': 9251,\n",
       " 'post': 11143,\n",
       " 'foward': 5507,\n",
       " 'hear': 6410,\n",
       " 'dorca': 4081,\n",
       " 'pittman': 10959,\n",
       " 'news': 9802,\n",
       " 'margin': 8797,\n",
       " 'bottom': 1704,\n",
       " 'system': 14164,\n",
       " 'head': 6393,\n",
       " 'spin': 13562,\n",
       " 'custom': 3351,\n",
       " 'without': 15997,\n",
       " 'deal': 3516,\n",
       " 'includ': 7021,\n",
       " 'everyth': 4890,\n",
       " 'product': 11381,\n",
       " 'web': 15768,\n",
       " 'page': 10486,\n",
       " 'million': 9216,\n",
       " 'lead': 8164,\n",
       " 'cd': 2250,\n",
       " 'telemarket': 14323,\n",
       " 'fax': 5151,\n",
       " 'gold': 5980,\n",
       " 'mine': 9235,\n",
       " 'contain': 3004,\n",
       " 'address': 160,\n",
       " 'phone': 10876,\n",
       " 'sic': 13139,\n",
       " 'size': 13247,\n",
       " 'allow': 438,\n",
       " 'use': 15260,\n",
       " 'broadcast': 1830,\n",
       " 'hot': 6685,\n",
       " 'read': 11813,\n",
       " 'softwar': 13398,\n",
       " 'turn': 14894,\n",
       " 'blaster': 1576,\n",
       " 'taken': 14200,\n",
       " 'cell': 2274,\n",
       " 'weather': 15759,\n",
       " 'servic': 12931,\n",
       " 'outdoorsmen': 10371,\n",
       " 'font': 5414,\n",
       " 'px': 11565,\n",
       " 'pad': 10479,\n",
       " 'trial': 14805,\n",
       " 'lock': 8440,\n",
       " 'subscrib': 13930,\n",
       " 'full': 5642,\n",
       " 'subscript': 13931,\n",
       " 'alert': 390,\n",
       " 'listen': 8376,\n",
       " 'mp': 9477,\n",
       " 'exampl': 4913,\n",
       " 'tornado': 14685,\n",
       " 'pc': 10677,\n",
       " 'speaker': 13517,\n",
       " 'go': 5962,\n",
       " 'weatherwav': 15764,\n",
       " 'pinpoint': 10940,\n",
       " 'deliv': 3625,\n",
       " 'gener': 5796,\n",
       " 'voic': 15594,\n",
       " 'everi': 4885,\n",
       " 'type': 14939,\n",
       " 'toll': 14643,\n",
       " 'inquiri': 7168,\n",
       " 'u': 14947,\n",
       " 'citi': 2545,\n",
       " 'coastal': 2678,\n",
       " 'boater': 1626,\n",
       " 'marin': 8808,\n",
       " 'zone': 16368,\n",
       " 'buoy': 1928,\n",
       " 'recipi': 11873,\n",
       " 'outstand': 10392,\n",
       " 'review': 12197,\n",
       " 'sail': 12551,\n",
       " 'magazin': 8638,\n",
       " 'motoryacht': 9462,\n",
       " 'boatu': 1627,\n",
       " 'bassmast': 1254,\n",
       " 'land': 8063,\n",
       " 'ideal': 6866,\n",
       " 'camper': 2062,\n",
       " 'hiker': 6559,\n",
       " 'hunter': 6776,\n",
       " 'fresh': 5582,\n",
       " 'water': 15721,\n",
       " 'fishermen': 5327,\n",
       " 'featur': 5175,\n",
       " 'lake': 8048,\n",
       " 'inc': 7009,\n",
       " 'plaza': 11006,\n",
       " 'american': 523,\n",
       " 'dr': 4122,\n",
       " 'reston': 12145,\n",
       " 'va': 15307,\n",
       " 'messag': 9108,\n",
       " 'solicit': 13421,\n",
       " 'dream': 4139,\n",
       " 'come': 2766,\n",
       " 'true': 14844,\n",
       " 'hope': 6660,\n",
       " 'travel': 14776,\n",
       " 'countri': 3164,\n",
       " 'two': 14927,\n",
       " 'man': 8733,\n",
       " 'russia': 12497,\n",
       " 'goal': 5965,\n",
       " 'imposs': 6982,\n",
       " 'young': 16270,\n",
       " 'pretti': 11302,\n",
       " 'woman': 16026,\n",
       " 'wife': 15918,\n",
       " 'girlfriend': 5906,\n",
       " 'mayb': 8917,\n",
       " 'tri': 14803,\n",
       " 'tayana': 14265,\n",
       " 'year': 16237,\n",
       " 'old': 10161,\n",
       " 'write': 16105,\n",
       " 'lapa': 8078,\n",
       " 'pochta': 11055,\n",
       " 'ru': 12476,\n",
       " 'soon': 13456,\n",
       " 'concret': 2891,\n",
       " 'nocturn': 9907,\n",
       " 'flung': 5384,\n",
       " 'glimmer': 5929,\n",
       " 'wooster': 16046,\n",
       " 'anamorph': 576,\n",
       " 'contracept': 3024,\n",
       " 'droll': 4167,\n",
       " 'rob': 12335,\n",
       " 'foothil': 5423,\n",
       " 'gaur': 5749,\n",
       " 'estonia': 4833,\n",
       " 'tollgat': 14644,\n",
       " 'derbi': 3693,\n",
       " 'electrifi': 4465,\n",
       " 'basebal': 1239,\n",
       " 'franca': 5524,\n",
       " 'bath': 1262,\n",
       " 'butan': 1961,\n",
       " 'trytophan': 14858,\n",
       " 'freeman': 5561,\n",
       " 'fern': 5215,\n",
       " 'farmland': 5118,\n",
       " 'octal': 10089,\n",
       " 'britten': 1825,\n",
       " 'canfield': 2085,\n",
       " 'airlin': 347,\n",
       " 'anglophobia': 621,\n",
       " 'bun': 1920,\n",
       " 'disquietud': 3950,\n",
       " 'chauffeur': 2380,\n",
       " 'boom': 1679,\n",
       " 'remedi': 12032,\n",
       " 'baselin': 1242,\n",
       " 'shine': 13063,\n",
       " 'extrins': 5028,\n",
       " 'quasiperiod': 11630,\n",
       " 'fed': 5179,\n",
       " 'dilatori': 3839,\n",
       " 'carbon': 2119,\n",
       " 'longfellow': 8468,\n",
       " 'pax': 10653,\n",
       " 'sylvia': 14140,\n",
       " 'fischer': 5325,\n",
       " 'needlepoint': 9720,\n",
       " 'blond': 1595,\n",
       " 'cloy': 2649,\n",
       " 'grayish': 6074,\n",
       " 'biz': 1544,\n",
       " 'lexic': 8270,\n",
       " 'immeasur': 6947,\n",
       " 'semest': 12872,\n",
       " 'brisk': 1818,\n",
       " 'cobb': 2683,\n",
       " 'nut': 10025,\n",
       " 'buzzword': 1975,\n",
       " 'apertur': 723,\n",
       " 'rockwel': 12356,\n",
       " 'burg': 1935,\n",
       " 'valid': 15340,\n",
       " 'spartan': 13507,\n",
       " 'haughti': 6361,\n",
       " 'spiritu': 13566,\n",
       " 'liber': 8290,\n",
       " 'ostens': 10334,\n",
       " 'angstrom': 624,\n",
       " 'obscen': 10062,\n",
       " 'scala': 12668,\n",
       " 'thiamin': 14488,\n",
       " 'cypru': 3391,\n",
       " 'accord': 100,\n",
       " 'thornton': 14510,\n",
       " 'artichok': 866,\n",
       " 'malais': 8715,\n",
       " 'revers': 12195,\n",
       " 'contribut': 3036,\n",
       " 'linoleum': 8355,\n",
       " 'onomatopo': 10205,\n",
       " 'customhous': 3355,\n",
       " 'condemn': 2894,\n",
       " 'bryce': 1869,\n",
       " 'love': 8522,\n",
       " 'onlin': 10204,\n",
       " 'photo': 10879,\n",
       " 'album': 380,\n",
       " 'download': 4109,\n",
       " 'nobodi': 9903,\n",
       " 'unless': 15127,\n",
       " 'noth': 9965,\n",
       " 'feed': 5184,\n",
       " 'upon': 15222,\n",
       " 'local': 8435,\n",
       " 'languag': 8070,\n",
       " 'version': 15452,\n",
       " 'german': 5840,\n",
       " 'french': 5578,\n",
       " 'spanish': 13501,\n",
       " 'uk': 14979,\n",
       " 'mani': 8754,\n",
       " 'aii': 324,\n",
       " 'availabi': 1056,\n",
       " 'wait': 15655,\n",
       " 'deiiveri': 3604,\n",
       " 'norton': 9950,\n",
       " 'secur': 12809,\n",
       " 'pro': 11358,\n",
       " 'window': 15957,\n",
       " 'xp': 16188,\n",
       " 'sp': 13486,\n",
       " 'fuil': 5633,\n",
       " 'corei': 3096,\n",
       " 'draw': 4132,\n",
       " 'graphic': 6062,\n",
       " 'suit': 13972,\n",
       " 'dreamweav': 4141,\n",
       " 'mx': 9572,\n",
       " 'homesit': 6637,\n",
       " 'inciudinq': 7019,\n",
       " 'macromedia': 8625,\n",
       " 'studio': 13892,\n",
       " 'brows': 1860,\n",
       " 'nativ': 9663,\n",
       " 'ianquag': 6836,\n",
       " 'siyvia': 13244,\n",
       " 'chang': 2346,\n",
       " 'plan': 10984,\n",
       " 'catherin': 2214,\n",
       " 'recent': 11864,\n",
       " 'vv': 15636,\n",
       " 'busyb': 1960,\n",
       " 'mother': 9453,\n",
       " 'cannot': 2089,\n",
       " 'although': 476,\n",
       " 'may': 8915,\n",
       " 'airport': 349,\n",
       " 'franc': 5523,\n",
       " 'bronagh': 1843,\n",
       " 'hous': 6699,\n",
       " 'back': 1125,\n",
       " 'liitl': 8323,\n",
       " 'eva': 4866,\n",
       " 'ain': 337,\n",
       " 'born': 1690,\n",
       " 'tuesday': 14873,\n",
       " 'absolut': 68,\n",
       " 'incred': 7040,\n",
       " 'poor': 11098,\n",
       " 'dsay': 4179,\n",
       " 'sound': 13473,\n",
       " 'amaz': 504,\n",
       " 'depress': 3686,\n",
       " 'deirdr': 3606,\n",
       " 'justin': 7718,\n",
       " 'mason': 8859,\n",
       " 'wrote': 16115,\n",
       " 'quick': 11651,\n",
       " 'note': 9961,\n",
       " 'annapurna': 641,\n",
       " 'base': 1238,\n",
       " 'camp': 2060,\n",
       " 'instead': 7187,\n",
       " 'jomsom': 7637,\n",
       " 'trek': 14795,\n",
       " 'bit': 1539,\n",
       " 'impress': 6985,\n",
       " 'visual': 15565,\n",
       " 'littl': 8389,\n",
       " 'soggier': 13403,\n",
       " 'morn': 9429,\n",
       " 'bhadra': 1471,\n",
       " 'leap': 8176,\n",
       " 'gazel': 5758,\n",
       " 'odd': 10098,\n",
       " 'metr': 9135,\n",
       " 'himalaya': 6566,\n",
       " 'pic': 10898,\n",
       " 'bonu': 1671,\n",
       " 'tell': 14335,\n",
       " 'forgot': 5456,\n",
       " 'irish': 7362,\n",
       " 'embassi': 4523,\n",
       " 'updat': 15214,\n",
       " 'ish': 7388,\n",
       " 'j': 7447,\n",
       " 'travelogu': 14777,\n",
       " 'jmason': 7597,\n",
       " 'http': 6734,\n",
       " 'mailman': 8678,\n",
       " 'listinfo': 8377,\n",
       " 'readi': 11816,\n",
       " 'earn': 4286,\n",
       " 'step': 13755,\n",
       " 'six': 13239,\n",
       " 'figur': 5267,\n",
       " 'real': 11820,\n",
       " 'estat': 4828,\n",
       " 'passion': 10605,\n",
       " 'desir': 3719,\n",
       " 'serious': 12923,\n",
       " 'substanti': 13937,\n",
       " 'month': 9400,\n",
       " 'email': 4511,\n",
       " 'associ': 916,\n",
       " 'shortli': 13106,\n",
       " 'bigprofithomebiz': 1495,\n",
       " 'yahoo': 16210,\n",
       " 'lost': 8504,\n",
       " 'amonq': 546,\n",
       " 'riqht': 12274,\n",
       " 'iogo': 7324,\n",
       " 'guarante': 6165,\n",
       " 'flexibi': 5359,\n",
       " 'woork': 16045,\n",
       " 'fine': 5305,\n",
       " 'save': 12652,\n",
       " 'pigsti': 10923,\n",
       " 'piil': 10924,\n",
       " 'www': 16136,\n",
       " 'aftead': 272,\n",
       " 'measur': 9001,\n",
       " 'su': 13907,\n",
       " 'earthquak': 4293,\n",
       " 'ccessful': 2242,\n",
       " 'proven': 11469,\n",
       " 'sav': 12651,\n",
       " 'outpost': 10383,\n",
       " 'alterc': 471,\n",
       " 'v': 15306,\n",
       " 'trifoli': 14816,\n",
       " 'ag': 278,\n",
       " 'prayer': 11233,\n",
       " 'al': 366,\n",
       " 'rollick': 12383,\n",
       " 'lu': 8552,\n",
       " 'serou': 12924,\n",
       " 'l': 8017,\n",
       " 'r': 11674,\n",
       " 'commis': 2785,\n",
       " 'syphilit': 14160,\n",
       " 'cl': 2559,\n",
       " 'destitut': 3738,\n",
       " 'isva': 7411,\n",
       " 'breeder': 1782,\n",
       " 'ascrib': 880,\n",
       " 'andmanyoth': 587,\n",
       " 'bacillu': 1124,\n",
       " 'st': 13658,\n",
       " 'prlce': 11356,\n",
       " 'qu': 11601,\n",
       " 'swatter': 14101,\n",
       " 'aiiti': 327,\n",
       " 'worldwid': 16072,\n",
       " 'sh': 12981,\n",
       " 'circumlocutori': 2539,\n",
       " 'lpplng': 8537,\n",
       " 'total': 14695,\n",
       " 'c': 1989,\n",
       " 'gastronomist': 5741,\n",
       " 'onfidentiai': 10195,\n",
       " 'satisfi': 12645,\n",
       " 'behaviour': 1349,\n",
       " 'ascension': 877,\n",
       " 'nice': 9841,\n",
       " 'mid': 9172,\n",
       " 'perform': 10764,\n",
       " 'feedback': 5185,\n",
       " 'select': 12858,\n",
       " 'manag': 8735,\n",
       " 'process': 11373,\n",
       " 'meaning': 8994,\n",
       " 'specif': 13530,\n",
       " 'identifi': 6870,\n",
       " 'play': 11001,\n",
       " 'import': 6977,\n",
       " 'role': 12378,\n",
       " 'critic': 3262,\n",
       " 'pep': 10744,\n",
       " 'describ': 3705,\n",
       " 'refer': 11924,\n",
       " 'begin': 1342,\n",
       " 'input': 7165,\n",
       " 'respons': 12141,\n",
       " 'help': 6466,\n",
       " 'desk': 3721,\n",
       " 'follow': 5410,\n",
       " 'option': 10264,\n",
       " 'europ': 4863,\n",
       " 'canada': 2071,\n",
       " 'perfmgmt': 10762,\n",
       " 'cumul': 3324,\n",
       " 'oper': 10233,\n",
       " 'open': 10231,\n",
       " 'statu': 13733,\n",
       " 'appear': 738,\n",
       " 'submit': 13924,\n",
       " 'button': 1967,\n",
       " 'due': 4197,\n",
       " 'jun': 7703,\n",
       " 'supervisor': 14021,\n",
       " 'ahmad': 311,\n",
       " 'anjam': 632,\n",
       " 'dale': 3421,\n",
       " 'surbey': 14041,\n",
       " 'carson': 2158,\n",
       " 'margaret': 8795,\n",
       " 'steff': 13747,\n",
       " 'vernon': 15445,\n",
       " 'clayton': 2592,\n",
       " 'vasant': 15383,\n",
       " 'shanbhogu': 12997,\n",
       " 'zipter': 16360,\n",
       " 'rudi': 12481,\n",
       " 'theodor': 14449,\n",
       " 'murphi': 9548,\n",
       " 'wholesal': 15895,\n",
       " 'quantiti': 11623,\n",
       " 'singl': 13212,\n",
       " 'pallet': 10508,\n",
       " 'truckload': 14843,\n",
       " 'still': 13784,\n",
       " 'famili': 5094,\n",
       " 'lifestyl': 8312,\n",
       " 'spare': 13503,\n",
       " 'regular': 11975,\n",
       " 'promot': 11423,\n",
       " 'scheme': 12688,\n",
       " 'minim': 9242,\n",
       " 'first': 5321,\n",
       " 'toward': 14710,\n",
       " 'reward': 12209,\n",
       " 'longest': 8466,\n",
       " 'larg': 8081,\n",
       " 'possibl': 11141,\n",
       " 'america': 522,\n",
       " 'condit': 2896,\n",
       " 'employ': 4560,\n",
       " 'layoff': 8141,\n",
       " 'hit': 6586,\n",
       " 'major': 8701,\n",
       " 'fail': 5069,\n",
       " 'never': 9786,\n",
       " 'becom': 1325,\n",
       " 'victim': 15492,\n",
       " 'downsiz': 4110,\n",
       " 'career': 2127,\n",
       " 'burn': 1940,\n",
       " 'ill': 6922,\n",
       " 'injuri': 7151,\n",
       " 'job': 7609,\n",
       " 'problem': 11369,\n",
       " 'frighten': 5596,\n",
       " 'realiti': 11825,\n",
       " 'plastic': 10997,\n",
       " 'wallet': 15665,\n",
       " 'determin': 3747,\n",
       " 'qualiti': 11616,\n",
       " 'hard': 6313,\n",
       " 'fact': 5060,\n",
       " 'economi': 4344,\n",
       " 'industri': 7079,\n",
       " 'age': 280,\n",
       " 'retail': 12164,\n",
       " 'depend': 3677,\n",
       " 'backup': 1136,\n",
       " 'tire': 14596,\n",
       " 'paycheck': 10657,\n",
       " 'will': 15931,\n",
       " 'penni': 10728,\n",
       " 'catalog': 2200,\n",
       " 'actual': 136,\n",
       " 'point': 11064,\n",
       " 'databas': 3467,\n",
       " 'hyperlink': 6811,\n",
       " 'suppliersffff': 14029,\n",
       " 'unlik': 15128,\n",
       " 'othersffff': 10349,\n",
       " 'distribut': 3977,\n",
       " 'govern': 6023,\n",
       " 'jeep': 7526,\n",
       " 'myth': 9590,\n",
       " 'virtual': 15543,\n",
       " 'item': 7419,\n",
       " 'liquid': 8368,\n",
       " 'weekli': 15793,\n",
       " 'daili': 3415,\n",
       " 'basi': 1245,\n",
       " 'supplier': 14028,\n",
       " 'purchas': 11537,\n",
       " 'ship': 13065,\n",
       " 'refund': 11948,\n",
       " 'individu': 7072,\n",
       " 'small': 13322,\n",
       " 'flexabl': 5357,\n",
       " 'smaller': 13325,\n",
       " 'rca': 11793,\n",
       " 'stereo': 13765,\n",
       " 'box': 1721,\n",
       " 'palm': 10510,\n",
       " 'pilot': 10929,\n",
       " 'antenna': 673,\n",
       " 'booster': 1683,\n",
       " 'tv': 14909,\n",
       " 'cent': 2280,\n",
       " 'perfect': 10758,\n",
       " 'pancak': 10523,\n",
       " 'maker': 8707,\n",
       " 'seen': 12826,\n",
       " 'cdffff': 2252,\n",
       " 'pentium': 10736,\n",
       " 'sampl': 12591,\n",
       " 'moreof': 9423,\n",
       " 'themail': 14444,\n",
       " 'card': 2122,\n",
       " 'paypal': 10669,\n",
       " 'account': 102,\n",
       " 'datapaid': 3470,\n",
       " 'check': 2392,\n",
       " 'specialti': 13529,\n",
       " 'transmiss': 14762,\n",
       " 'dorshir': 4088,\n",
       " 'court': 3174,\n",
       " 'louisvil': 8519,\n",
       " 'ky': 8011,\n",
       " 'protect': 11455,\n",
       " 'misrepres': 9276,\n",
       " 'within': 15996,\n",
       " 'less': 8237,\n",
       " 'ffff': 5231,\n",
       " 'descript': 3706,\n",
       " 'handl': 6282,\n",
       " 'support': 14032,\n",
       " 'normal': 9939,\n",
       " 'sinc': 13205,\n",
       " 'ad': 142,\n",
       " 'delet': 3618,\n",
       " 'even': 4876,\n",
       " 'data': 3466,\n",
       " 'receipt': 11861,\n",
       " 'payment': 10663,\n",
       " 'via': 15473,\n",
       " 'file': 5272,\n",
       " 'transfer': 14756,\n",
       " 'recogn': 11878,\n",
       " 'bargain': 1218,\n",
       " 'repay': 12065,\n",
       " 'initi': 7147,\n",
       " 'brief': 1801,\n",
       " 'variou': 15379,\n",
       " 'idea': 6865,\n",
       " 'ventur': 15424,\n",
       " 'otc': 10341,\n",
       " 'winner': 15964,\n",
       " 'releas': 12009,\n",
       " 'cal': 2016,\n",
       " 'bay': 1276,\n",
       " 'stock': 13799,\n",
       " 'symbol': 14145,\n",
       " 'cbyi': 2240,\n",
       " 'watch': 15718,\n",
       " 'strong': 13870,\n",
       " 'recommend': 11883,\n",
       " 'advisori': 235,\n",
       " 'pick': 10900,\n",
       " 'otcbb': 10342,\n",
       " 'share': 13005,\n",
       " 'histor': 6582,\n",
       " 'increas': 7037,\n",
       " 'larger': 8082,\n",
       " 'exchang': 4925,\n",
       " 'skyrocket': 13269,\n",
       " 'near': 9697,\n",
       " ...}"
      ]
     },
     "execution_count": 59,
     "metadata": {},
     "output_type": "execute_result"
    }
   ],
   "source": [
    "temp_test_bow.vocabulary_"
   ]
  },
  {
   "cell_type": "markdown",
   "metadata": {},
   "source": [
    "# TF-IDF Model"
   ]
  },
  {
   "cell_type": "code",
   "execution_count": 34,
   "metadata": {},
   "outputs": [],
   "source": [
    "from sklearn.feature_extraction.text import TfidfTransformer"
   ]
  },
  {
   "cell_type": "code",
   "execution_count": 35,
   "metadata": {},
   "outputs": [],
   "source": [
    "train_tfidf=TfidfTransformer().fit_transform(train_bow)"
   ]
  },
  {
   "cell_type": "code",
   "execution_count": 36,
   "metadata": {},
   "outputs": [
    {
     "data": {
      "text/plain": [
       "(1915, 16392)"
      ]
     },
     "execution_count": 36,
     "metadata": {},
     "output_type": "execute_result"
    }
   ],
   "source": [
    "train_tfidf.shape"
   ]
  },
  {
   "cell_type": "code",
   "execution_count": 37,
   "metadata": {},
   "outputs": [],
   "source": [
    "test_tfidf=TfidfTransformer().fit_transform(test_bow)"
   ]
  },
  {
   "cell_type": "code",
   "execution_count": 38,
   "metadata": {},
   "outputs": [
    {
     "data": {
      "text/plain": [
       "(821, 16392)"
      ]
     },
     "execution_count": 38,
     "metadata": {},
     "output_type": "execute_result"
    }
   ],
   "source": [
    "test_tfidf.shape"
   ]
  },
  {
   "cell_type": "code",
   "execution_count": 39,
   "metadata": {},
   "outputs": [
    {
     "name": "stdout",
     "output_type": "stream",
     "text": [
      "  (0, 15348)\t0.12520776585371032\n",
      "  (0, 15260)\t0.08640146460803416\n",
      "  (0, 14044)\t0.1245822326611348\n",
      "  (0, 6628)\t0.23179535431548068\n",
      "  (0, 5872)\t0.5430529811181767\n",
      "  (0, 5549)\t0.0989946487108544\n",
      "  (0, 5302)\t0.1049808507602507\n",
      "  (0, 4930)\t0.23487758288464122\n",
      "  (0, 3683)\t0.46975516576928245\n",
      "  (0, 2561)\t0.3226946988046072\n",
      "  (0, 2122)\t0.4396841808723736\n",
      "  (0, 798)\t0.13634178101632155\n",
      "  (1, 16136)\t0.19856663516606665\n",
      "  (1, 15990)\t0.07809343538948363\n",
      "  (1, 15781)\t0.3554683806352605\n",
      "  (1, 15737)\t0.06598995884775109\n",
      "  (1, 15560)\t0.14169061342631736\n",
      "  (1, 15364)\t0.14535959291086512\n",
      "  (1, 15114)\t0.11312883071165239\n",
      "  (1, 14629)\t0.06850475091051506\n",
      "  (1, 14295)\t0.09332912875162808\n",
      "  (1, 14044)\t0.08182789424575031\n",
      "  (1, 13924)\t0.08842433101326488\n",
      "  (1, 13524)\t0.15618687077896726\n",
      "  (1, 13230)\t0.06659220088360587\n",
      "  :\t:\n",
      "  (819, 755)\t0.08454533374914606\n",
      "  (819, 67)\t0.12217636486223606\n",
      "  (820, 15523)\t0.2321797573322111\n",
      "  (820, 15260)\t0.05782343027895832\n",
      "  (820, 14574)\t0.048522766783741185\n",
      "  (820, 14425)\t0.04766457001846578\n",
      "  (820, 14207)\t0.07269429329300478\n",
      "  (820, 14098)\t0.38739797927433545\n",
      "  (820, 13919)\t0.09319184993911701\n",
      "  (820, 13877)\t0.09373658462158958\n",
      "  (820, 13106)\t0.13258504847583752\n",
      "  (820, 11381)\t0.06957535284714927\n",
      "  (820, 11183)\t0.07601833670124221\n",
      "  (820, 10645)\t0.27333671530689724\n",
      "  (820, 10611)\t0.09245645362712841\n",
      "  (820, 9337)\t0.16203180647427767\n",
      "  (820, 8306)\t0.31437956751389184\n",
      "  (820, 7741)\t0.16489725191350238\n",
      "  (820, 7447)\t0.17112626524774752\n",
      "  (820, 7405)\t0.29621781608687636\n",
      "  (820, 6695)\t0.17928032958203208\n",
      "  (820, 4354)\t0.47127615365553377\n",
      "  (820, 4094)\t0.3408264005715334\n",
      "  (820, 2241)\t0.10243080741764987\n",
      "  (820, 2032)\t0.06019783444969922\n"
     ]
    }
   ],
   "source": [
    "print(test_tfidf)"
   ]
  },
  {
   "cell_type": "code",
   "execution_count": 40,
   "metadata": {},
   "outputs": [],
   "source": [
    "clf_tfidf=MultinomialNB().fit(train_tfidf,y_train)"
   ]
  },
  {
   "cell_type": "code",
   "execution_count": 41,
   "metadata": {},
   "outputs": [
    {
     "name": "stdout",
     "output_type": "stream",
     "text": [
      "Confusion Matrix -> \n",
      " [[942   5]\n",
      " [  1 967]]\n",
      "\n",
      "Accuracy->  0.9968668407310705\n"
     ]
    }
   ],
   "source": [
    "pred_train_tfidf=clf_tfidf.predict(train_tfidf)\n",
    "\n",
    "print('Confusion Matrix -> \\n',confusion_matrix(y_train,pred_train_tfidf))\n",
    "print('\\nAccuracy-> ',accuracy_score(y_train,pred_train_tfidf))"
   ]
  },
  {
   "cell_type": "code",
   "execution_count": 42,
   "metadata": {},
   "outputs": [
    {
     "name": "stdout",
     "output_type": "stream",
     "text": [
      "\n",
      "Accuracy->  0.9841656516443362\n",
      "\n",
      "Precision->  0.9874055415617129\n",
      "\n",
      "f1-Score->  0.9836888331242158\n",
      "              precision    recall  f1-score   support\n",
      "\n",
      "           0       0.98      0.99      0.98       421\n",
      "           1       0.99      0.98      0.98       400\n",
      "\n",
      "    accuracy                           0.98       821\n",
      "   macro avg       0.98      0.98      0.98       821\n",
      "weighted avg       0.98      0.98      0.98       821\n",
      "\n"
     ]
    }
   ],
   "source": [
    "pred_test_tfidf=clf_tfidf.predict(test_tfidf)\n",
    "from sklearn.metrics import precision_score\n",
    "from sklearn.metrics import f1_score\n",
    "print('\\nAccuracy-> ',accuracy_score(y_test,pred_test_tfidf))\n",
    "print('\\nPrecision-> ',precision_score(y_test,pred_test_tfidf))\n",
    "print('\\nf1-Score-> ',f1_score(y_test,pred_test_tfidf))\n",
    " \n",
    "from sklearn.metrics import classification_report\n",
    "print(classification_report(y_test,pred_test_tfidf))"
   ]
  },
  {
   "cell_type": "code",
   "execution_count": 43,
   "metadata": {},
   "outputs": [
    {
     "data": {
      "text/plain": [
       "<sklearn.metrics._plot.confusion_matrix.ConfusionMatrixDisplay at 0x1bf23216808>"
      ]
     },
     "execution_count": 43,
     "metadata": {},
     "output_type": "execute_result"
    },
    {
     "data": {
      "image/png": "[encoded data removed]",
      "text/plain": [
       "<Figure size 432x288 with 2 Axes>"
      ]
     },
     "metadata": {
      "needs_background": "light"
     },
     "output_type": "display_data"
    }
   ],
   "source": [
    "plot_confusion_matrix(clf_tfidf,test_tfidf,y_test)"
   ]
  },
  {
   "cell_type": "code",
   "execution_count": 44,
   "metadata": {},
   "outputs": [
    {
     "data": {
      "image/png": "[encoded data removed]",
      "text/plain": [
       "<Figure size 432x288 with 1 Axes>"
      ]
     },
     "metadata": {
      "needs_background": "light"
     },
     "output_type": "display_data"
    }
   ],
   "source": [
    "import matplotlib.pyplot as plt\n",
    "from sklearn import metrics\n",
    "fpr, tpr, _ = metrics.roc_curve(y_test,pred_test_tfidf)\n",
    "auc = metrics.roc_auc_score(y_test,pred_test_tfidf)\n",
    "plt.plot(fpr,tpr,label=\"auc=\"+str(auc))\n",
    "plt.legend(loc=4)\n",
    "plt.xlabel('FPR')\n",
    "plt.ylabel('TPR')\n",
    "plt.show()"
   ]
  },
  {
   "cell_type": "code",
   "execution_count": null,
   "metadata": {},
   "outputs": [],
   "source": []
  },
  {
   "cell_type": "code",
   "execution_count": null,
   "metadata": {},
   "outputs": [],
   "source": []
  }
 ],
 "metadata": {
  "kernelspec": {
   "display_name": "Python 3",
   "language": "python",
   "name": "python3"
  },
  "language_info": {
   "codemirror_mode": {
    "name": "ipython",
    "version": 3
   },
   "file_extension": ".py",
   "mimetype": "text/x-python",
   "name": "python",
   "nbconvert_exporter": "python",
   "pygments_lexer": "ipython3",
   "version": "3.7.6"
  }
 },
 "nbformat": 4,
 "nbformat_minor": 4
}
